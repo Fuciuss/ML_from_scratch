{
 "cells": [
  {
   "cell_type": "code",
   "execution_count": 1,
   "metadata": {},
   "outputs": [],
   "source": [
    "import numpy as np"
   ]
  },
  {
   "attachments": {},
   "cell_type": "markdown",
   "metadata": {},
   "source": [
    "#### Valid Cross-Correlation\n",
    "\n",
    "- Kernel fits entirely on the input perfectly\n",
    "- Stop sliding the kernel when it hits the boreder\n",
    "\n",
    "<img src=\"/Users/reespawson/Documents/Playground/ML/from_scratch/convolutions/images/valid_cross_correlation.png\">\n",
    "\n",
    "\n",
    "#### Implement a 'valid' Cross-Correlation in Numpy below"
   ]
  },
  {
   "cell_type": "code",
   "execution_count": 16,
   "metadata": {},
   "outputs": [],
   "source": [
    "matrix = np.array([[1, 6, 2], [5, 3, 1], [7, 0, 4]])\n",
    "kernel = np.array([[1, 2], [-1, 0]])"
   ]
  },
  {
   "attachments": {},
   "cell_type": "markdown",
   "metadata": {},
   "source": [
    "The size of the output\n",
    "\n",
    "`Input - Kernel + 1`\n",
    "\n",
    "`Y = I - K + 1`"
   ]
  },
  {
   "cell_type": "code",
   "execution_count": 48,
   "metadata": {},
   "outputs": [
    {
     "name": "stdout",
     "output_type": "stream",
     "text": [
      "[1, 6, 5, 3]\n",
      "[6, 2, 3, 1]\n",
      "[5, 3, 7, 0]\n",
      "[3, 1, 0, 4]\n"
     ]
    }
   ],
   "source": [
    "# Need a sliding window over matrix\n",
    "# Matrix of 3 x 3 with kernel of 2 x 2 will have 4 windows\n",
    "windows = 4\n",
    "\n",
    "\n",
    "input_matrix = matrix\n",
    "kernel = kernel\n",
    "\n",
    "output_size = input_matrix.shape[0] - kernel.shape[0] + 1\n",
    "\n",
    "output = np.empty((output_size, output_size))\n",
    "\n",
    "i_W, i_H = input_matrix.shape\n",
    "k_W, k_H = kernel.shape\n",
    "\n",
    "windows = []\n",
    "for i in range(output_size):\n",
    "    for j in range(output_size):\n",
    "        window = [input_matrix[i][j], input_matrix[i][j+1], input_matrix[i+1][j], input_matrix[i+1][j+1]]\n",
    "        print(window)\n",
    "        windows.append(np.array(window))\n"
   ]
  },
  {
   "cell_type": "code",
   "execution_count": 59,
   "metadata": {},
   "outputs": [
    {
     "name": "stdout",
     "output_type": "stream",
     "text": [
      "[[8 7]\n",
      " [4 5]]\n"
     ]
    }
   ],
   "source": [
    "output=[]\n",
    "\n",
    "for window in windows:\n",
    "    output.append(np.sum(window.reshape(2,2) * kernel))\n",
    "    \n",
    "\n",
    "output = np.array(output).reshape(2,2)\n",
    "print(output)"
   ]
  },
  {
   "attachments": {},
   "cell_type": "markdown",
   "metadata": {},
   "source": [
    "### Full Cross-Correlation\n",
    "- Start computing the product as soon as there is an intersection between the kernel and the input\n",
    "\n",
    "<img src=\"/Users/reespawson/Documents/Playground/ML/from_scratch/convolutions/images/full_cross_correlation.png\">"
   ]
  },
  {
   "cell_type": "code",
   "execution_count": null,
   "metadata": {},
   "outputs": [],
   "source": []
  }
 ],
 "metadata": {
  "kernelspec": {
   "display_name": "fastaiStableDiff",
   "language": "python",
   "name": "python3"
  },
  "language_info": {
   "codemirror_mode": {
    "name": "ipython",
    "version": 3
   },
   "file_extension": ".py",
   "mimetype": "text/x-python",
   "name": "python",
   "nbconvert_exporter": "python",
   "pygments_lexer": "ipython3",
   "version": "3.9.13"
  },
  "orig_nbformat": 4,
  "vscode": {
   "interpreter": {
    "hash": "942893973b43e57a09d80820fb186ad25edd2c2090177406db69c4479c1df418"
   }
  }
 },
 "nbformat": 4,
 "nbformat_minor": 2
}
